{
 "cells": [
  {
   "cell_type": "markdown",
   "id": "b6c3713d",
   "metadata": {},
   "source": [
    "# ENV Set"
   ]
  },
  {
   "cell_type": "code",
   "execution_count": 373,
   "id": "fb67ff06",
   "metadata": {},
   "outputs": [],
   "source": [
    "import numpy as np\n",
    "from scipy.io import loadmat\n",
    "data = loadmat('astro_data.mat')\n",
    "xx, vv = data['xx'], data['vv']\n",
    "\n",
    "def norm(x, mean, std):\n",
    "    return np.exp(-0.5 * ((x - mean) ** 2) / (std** 2)) / std\n",
    "\n",
    "def log_pstar(state):\n",
    "    log_omega, mm, pie, mu1, mu2, log_sigma1, log_sigma2 = state\n",
    "    N = xx.shape[0]\n",
    "\n",
    "    # exp process\n",
    "    sigma1 = np.exp(log_sigma1)\n",
    "    sigma2 = np.exp(log_sigma2)\n",
    "    omega = np.exp(log_omega)\n",
    "    \n",
    "    x_mu = xx.mean()\n",
    "    x_std = xx.std()\n",
    "    ext = xx.max() - xx.min()\n",
    "    \n",
    "    log_ext = np.log(ext)\n",
    "    \n",
    "    # condition check\n",
    "    forbidden_conditions = [pie < 0,\n",
    "                            pie > 1,\n",
    "                            np.abs(mm - x_mu) > 10 * x_std,\n",
    "                            np.abs(mu1 - log_ext) > 20,\n",
    "                            np.abs(mu2 - log_ext) > 20,\n",
    "                            np.abs(log_sigma1) > np.log(20),\n",
    "                            np.abs(log_sigma2) > np.log(20),\n",
    "                            np.abs(log_omega) > 20,\n",
    "                            ]\n",
    "    \n",
    "    if any(forbidden_conditions):\n",
    "        return -np.inf\n",
    "    \n",
    "    log_A = 0.5 * np.log((xx - mm) ** 2 + (vv / omega) ** 2)\n",
    "    \n",
    "    log_prior = np.sum(np.log(pie * norm(log_A, mu1, sigma1) + (1 - pie) * norm(log_A, mu2, sigma2)))\n",
    "    log_like = -2 * log_A.sum() - N * np.log(omega)\n",
    "    logp = log_like + log_prior\n",
    "    \n",
    "    return logp\n",
    "\n",
    "\n",
    "def dumb_metropolis(init, log_ptilde, iters, sigma, xx=xx, vv=vv):\n",
    "    # init state\n",
    "    state = init \n",
    "    Logp_state = log_ptilde(state)\n",
    "    \n",
    "    # init all the samples\n",
    "    param_shape = init.shape[0]\n",
    "    samples = np.zeros((param_shape, iters))\n",
    "    \n",
    "    accept = 0\n",
    "    for iter in range(0, iters):\n",
    "        propose_state = state + sigma * np.random.randn(len(state))\n",
    "        Logp_prop = log_ptilde(propose_state)\n",
    "        if (np.log(np.random.rand()) < (Logp_prop - Logp_state)).all():\n",
    "            state = propose_state        # accept propose param\n",
    "            Logp_state = Logp_prop       # update state\n",
    "            accept += 1\n",
    "        samples[:, iter] = state.squeeze()\n",
    "    accept_rate = accept / iters\n",
    "    return (samples, accept_rate)\n"
   ]
  },
  {
   "cell_type": "code",
   "execution_count": 371,
   "id": "cbab5d23",
   "metadata": {},
   "outputs": [],
   "source": [
    "from scipy.io import loadmat\n",
    "import numpy as np\n",
    "import pandas as pd\n",
    "import matplotlib.pyplot as plt"
   ]
  },
  {
   "cell_type": "code",
   "execution_count": 58,
   "id": "68399590",
   "metadata": {},
   "outputs": [],
   "source": [
    "log_omega = 1\n",
    "mm = 1\n",
    "pie = 1\n",
    "mu1 = 1\n",
    "mu2 = 1\n",
    "log_sigma1 = 1\n",
    "log_sigma2 = 1\n",
    "# logp = log_pstar(log_omega, mm, pie, mu1, mu2, log_sigma1, log_sigma2, xx, vv)\n",
    "params = np.array([log_omega, mm, pie ,mu1, mu2, log_sigma1, log_sigma2,])"
   ]
  },
  {
   "cell_type": "markdown",
   "id": "0740d98d",
   "metadata": {},
   "source": [
    "# 4.1"
   ]
  },
  {
   "cell_type": "markdown",
   "id": "7e45254c",
   "metadata": {},
   "source": [
    "What is the effect of Metropolis’s step-size parameter?"
   ]
  },
  {
   "cell_type": "markdown",
   "id": "d056e433",
   "metadata": {},
   "source": [
    "## step_size = 1"
   ]
  },
  {
   "cell_type": "code",
   "execution_count": 49,
   "id": "8b318389",
   "metadata": {},
   "outputs": [],
   "source": [
    "def plot_history(samples, acceptance_rate):\n",
    "    params_name = ['log_omega', 'mm', 'pie', 'mu1', 'mu2', 'log_sigma1', 'log_sigma2']\n",
    "\n",
    "    df = pd.DataFrame(samples.T, columns=params_name)\n",
    "    \n",
    "    df['iter'] = df.index\n",
    "    lines = df.plot.line(x='iter', y=params_name)"
   ]
  },
  {
   "cell_type": "code",
   "execution_count": 50,
   "id": "7f15ae01",
   "metadata": {},
   "outputs": [],
   "source": [
    "samples, acceptance_rate = dumb_metropolis(params, log_pstar, 1000, sigma=1)"
   ]
  },
  {
   "cell_type": "code",
   "execution_count": 51,
   "id": "ac97b4e7",
   "metadata": {},
   "outputs": [
    {
     "data": {
      "text/plain": [
       "0.013"
      ]
     },
     "execution_count": 51,
     "metadata": {},
     "output_type": "execute_result"
    }
   ],
   "source": [
    "acceptance_rate"
   ]
  },
  {
   "cell_type": "code",
   "execution_count": 52,
   "id": "6c6351ed",
   "metadata": {
    "scrolled": true
   },
   "outputs": [
    {
     "data": {
      "image/png": "[encoded data removed]",
      "text/plain": [
       "<Figure size 432x288 with 1 Axes>"
      ]
     },
     "metadata": {
      "needs_background": "light"
     },
     "output_type": "display_data"
    }
   ],
   "source": [
    "plot_history(samples, acceptance_rate)"
   ]
  },
  {
   "cell_type": "markdown",
   "id": "05217bdf",
   "metadata": {},
   "source": [
    "## step_size = 0.01"
   ]
  },
  {
   "cell_type": "code",
   "execution_count": 53,
   "id": "8c6d259c",
   "metadata": {},
   "outputs": [],
   "source": [
    "samples, acceptance_rate = dumb_metropolis(params, log_pstar, 1000, sigma=0.01)"
   ]
  },
  {
   "cell_type": "code",
   "execution_count": 54,
   "id": "85521e3a",
   "metadata": {},
   "outputs": [
    {
     "data": {
      "text/plain": [
       "0.777"
      ]
     },
     "execution_count": 54,
     "metadata": {},
     "output_type": "execute_result"
    }
   ],
   "source": [
    "acceptance_rate"
   ]
  },
  {
   "cell_type": "code",
   "execution_count": 55,
   "id": "13dbf467",
   "metadata": {},
   "outputs": [
    {
     "data": {
      "image/png": "[encoded data removed]",
      "text/plain": [
       "<Figure size 432x288 with 1 Axes>"
      ]
     },
     "metadata": {
      "needs_background": "light"
     },
     "output_type": "display_data"
    }
   ],
   "source": [
    "plot_history(samples, acceptance_rate)"
   ]
  },
  {
   "cell_type": "markdown",
   "id": "49d50469",
   "metadata": {},
   "source": [
    "## step_size = 10"
   ]
  },
  {
   "cell_type": "code",
   "execution_count": 46,
   "id": "eed9cc0e",
   "metadata": {},
   "outputs": [],
   "source": [
    "samples, acceptance_rate = dumb_metropolis(params, log_pstar, 1000, sigma=10)"
   ]
  },
  {
   "cell_type": "code",
   "execution_count": 47,
   "id": "bae7e522",
   "metadata": {},
   "outputs": [
    {
     "data": {
      "text/plain": [
       "0.0"
      ]
     },
     "execution_count": 47,
     "metadata": {},
     "output_type": "execute_result"
    }
   ],
   "source": [
    "acceptance_rate"
   ]
  },
  {
   "cell_type": "code",
   "execution_count": 48,
   "id": "b1e7679f",
   "metadata": {},
   "outputs": [
    {
     "data": {
      "image/png": "[encoded data removed]",
      "text/plain": [
       "<Figure size 432x288 with 1 Axes>"
      ]
     },
     "metadata": {
      "needs_background": "light"
     },
     "output_type": "display_data"
    }
   ],
   "source": [
    "plot_history(samples, acceptance_rate)"
   ]
  },
  {
   "cell_type": "markdown",
   "id": "ab477489",
   "metadata": {},
   "source": [
    "- Little step size will lead to small exploration range\n",
    "- Too Large step size will crash the sampling, no sample accepted\n",
    "- We need a suitable step size and burn-in time"
   ]
  },
  {
   "cell_type": "markdown",
   "id": "3c56b892",
   "metadata": {},
   "source": [
    "# 4.2"
   ]
  },
  {
   "cell_type": "markdown",
   "id": "59d5df07",
   "metadata": {},
   "source": [
    "Is the way you initialize the chain critical for Metropolis and/or slice sampling?"
   ]
  },
  {
   "cell_type": "markdown",
   "id": "c95e0ac7",
   "metadata": {},
   "source": [
    "We just change our init"
   ]
  },
  {
   "cell_type": "code",
   "execution_count": 63,
   "id": "7b49abe9",
   "metadata": {},
   "outputs": [],
   "source": [
    "log_omega = 1\n",
    "mm = 1\n",
    "pie = 0.1\n",
    "mu1 = 1\n",
    "mu2 = 10\n",
    "log_sigma1 = 1\n",
    "log_sigma2 = 1\n",
    "# logp = log_pstar(log_omega, mm, pie, mu1, mu2, log_sigma1, log_sigma2, xx, vv)\n",
    "params = np.array([log_omega, mm, pie ,mu1, mu2, log_sigma1, log_sigma2,])"
   ]
  },
  {
   "cell_type": "code",
   "execution_count": 64,
   "id": "9756bdeb",
   "metadata": {},
   "outputs": [
    {
     "data": {
      "text/plain": [
       "0.011"
      ]
     },
     "execution_count": 64,
     "metadata": {},
     "output_type": "execute_result"
    }
   ],
   "source": [
    "samples, acceptance_rate = dumb_metropolis(params, log_pstar, 1000, sigma=1)\n",
    "acceptance_rate"
   ]
  },
  {
   "cell_type": "code",
   "execution_count": 65,
   "id": "1a3dc2f0",
   "metadata": {},
   "outputs": [
    {
     "data": {
      "image/png": "[encoded data removed]",
      "text/plain": [
       "<Figure size 432x288 with 1 Axes>"
      ]
     },
     "metadata": {
      "needs_background": "light"
     },
     "output_type": "display_data"
    }
   ],
   "source": [
    "plot_history(samples, acceptance_rate)"
   ]
  },
  {
   "cell_type": "code",
   "execution_count": 66,
   "id": "65d920bf",
   "metadata": {},
   "outputs": [
    {
     "data": {
      "text/plain": [
       "0.0012"
      ]
     },
     "execution_count": 66,
     "metadata": {},
     "output_type": "execute_result"
    }
   ],
   "source": [
    "samples, acceptance_rate = dumb_metropolis(params, log_pstar, 10000, sigma=1)\n",
    "acceptance_rate"
   ]
  },
  {
   "cell_type": "code",
   "execution_count": 67,
   "id": "17ae1ef9",
   "metadata": {},
   "outputs": [
    {
     "data": {
      "image/png": "[encoded data removed]",
      "text/plain": [
       "<Figure size 432x288 with 1 Axes>"
      ]
     },
     "metadata": {
      "needs_background": "light"
     },
     "output_type": "display_data"
    }
   ],
   "source": [
    "plot_history(samples, acceptance_rate)"
   ]
  },
  {
   "cell_type": "markdown",
   "id": "acd77204",
   "metadata": {},
   "source": [
    "We may need more burn-in time to make the sampling consistent."
   ]
  },
  {
   "cell_type": "markdown",
   "id": "78fe3fad",
   "metadata": {},
   "source": [
    "# 4.3"
   ]
  },
  {
   "cell_type": "markdown",
   "id": "2130a395",
   "metadata": {},
   "source": [
    "What are the relative advantages of slice-sampling and Metropolis? Can you say good\n",
    "and bad things about both of them?"
   ]
  },
  {
   "cell_type": "markdown",
   "id": "eea5d6d8",
   "metadata": {},
   "source": [
    "### slice-sampling\n",
    "pros:\n",
    "slice-sampling can be more efficient for not rejecting the samples, which is suitable for the case that we do not have much information about the distribution.\n",
    "\n",
    "cons:\n",
    "slice-sampling may suffer from locality for those complicated distribuion. It is hard for slice-sampling to explore those far away high probability area across some low probability area.\n",
    "\n",
    "### Metropolis\n",
    "pros:\n",
    "Metropolis is quite simple and can generally working in most cases.\n",
    "\n",
    "cons:\n",
    "As we showed above, Metropolis may rely on its hyperparameters(step-size) and have burn-in period."
   ]
  },
  {
   "cell_type": "markdown",
   "id": "8a4c7ff2",
   "metadata": {},
   "source": [
    "# 4.4"
   ]
  },
  {
   "cell_type": "markdown",
   "id": "e0a06c88",
   "metadata": {},
   "source": [
    "Why have I taken logs of quantities like ω and A? Need I have bothered? Does taking\n",
    "logs affect the model and/or the sampler?"
   ]
  },
  {
   "cell_type": "markdown",
   "id": "d46ac445",
   "metadata": {},
   "source": [
    "Log can convert the multiply to addition, which in some sense can prevent the precision problem. The final result is not affected. (just like log likelihood)"
   ]
  },
  {
   "cell_type": "markdown",
   "id": "93e5dfe0",
   "metadata": {},
   "source": [
    "# 4.5"
   ]
  },
  {
   "cell_type": "markdown",
   "id": "294cd533",
   "metadata": {},
   "source": [
    "The true values are ω = 875.2 and m= 31.79. Are your posterior beliefs consistent with\n",
    "this? If not, what do you think went wrong with the sampling, modelling or both?"
   ]
  },
  {
   "cell_type": "code",
   "execution_count": 316,
   "id": "d2388d56",
   "metadata": {},
   "outputs": [],
   "source": [
    "log_omega = 10\n",
    "mm = 1\n",
    "pie = 1\n",
    "mu1 = 1\n",
    "mu2 = 1\n",
    "log_sigma1 = 0.1\n",
    "log_sigma2 = 0.1\n",
    "# logp = log_pstar(log_omega, mm, pie, mu1, mu2, log_sigma1, log_sigma2, xx, vv)\n",
    "params = np.array([log_omega, mm, pie ,mu1, mu2, log_sigma1, log_sigma2,])"
   ]
  },
  {
   "cell_type": "code",
   "execution_count": 324,
   "id": "de593920",
   "metadata": {},
   "outputs": [
    {
     "data": {
      "text/plain": [
       "0.12078"
      ]
     },
     "execution_count": 324,
     "metadata": {},
     "output_type": "execute_result"
    }
   ],
   "source": [
    "samples, acceptance_rate = dumb_metropolis(params, log_pstar, 100000, sigma=0.08)\n",
    "acceptance_rate"
   ]
  },
  {
   "cell_type": "code",
   "execution_count": 319,
   "id": "5e500afe",
   "metadata": {},
   "outputs": [],
   "source": [
    "ori_samples = samples"
   ]
  },
  {
   "cell_type": "code",
   "execution_count": 320,
   "id": "4fb5c0cb",
   "metadata": {},
   "outputs": [],
   "source": [
    "samples = ori_samples"
   ]
  },
  {
   "cell_type": "code",
   "execution_count": 366,
   "id": "bb4c2b1f",
   "metadata": {},
   "outputs": [
    {
     "name": "stdout",
     "output_type": "stream",
     "text": [
      "(7, 55000)\n",
      "(55000, 7)\n",
      "(7, 50000)\n"
     ]
    }
   ],
   "source": [
    "# ori_samples = samples\n",
    "print(samples.shape)\n",
    "samples = samples.T\n",
    "print(samples.shape)\n",
    "# samples = samples.T\n",
    "samples = samples[5000:]\n",
    "samples = samples.T\n",
    "print(samples.shape)"
   ]
  },
  {
   "cell_type": "code",
   "execution_count": 367,
   "id": "928953c1",
   "metadata": {},
   "outputs": [],
   "source": [
    "params_name = ['log_omega', 'mm', 'pie', 'mu1', 'mu2', 'log_sigma1', 'log_sigma2']\n",
    "df = pd.DataFrame(samples.T, columns=params_name)"
   ]
  },
  {
   "cell_type": "code",
   "execution_count": 368,
   "id": "3d87beeb",
   "metadata": {},
   "outputs": [
    {
     "data": {
      "text/plain": [
       "31.874691194919823"
      ]
     },
     "execution_count": 368,
     "metadata": {},
     "output_type": "execute_result"
    }
   ],
   "source": [
    "df['mm'].mean()"
   ]
  },
  {
   "cell_type": "code",
   "execution_count": 369,
   "id": "5a5c7624",
   "metadata": {},
   "outputs": [
    {
     "data": {
      "text/plain": [
       "873.151930476839"
      ]
     },
     "execution_count": 369,
     "metadata": {},
     "output_type": "execute_result"
    }
   ],
   "source": [
    "np.exp(df['log_omega'].mean())"
   ]
  },
  {
   "cell_type": "markdown",
   "id": "d04f58ed",
   "metadata": {},
   "source": [
    "We have a burn-in = 50000, and total iter = 100000, we get similar posterior"
   ]
  }
 ],
 "metadata": {
  "kernelspec": {
   "display_name": "Python 3 (ipykernel)",
   "language": "python",
   "name": "python3"
  },
  "language_info": {
   "codemirror_mode": {
    "name": "ipython",
    "version": 3
   },
   "file_extension": ".py",
   "mimetype": "text/x-python",
   "name": "python",
   "nbconvert_exporter": "python",
   "pygments_lexer": "ipython3",
   "version": "3.9.7"
  }
 },
 "nbformat": 4,
 "nbformat_minor": 5
}
