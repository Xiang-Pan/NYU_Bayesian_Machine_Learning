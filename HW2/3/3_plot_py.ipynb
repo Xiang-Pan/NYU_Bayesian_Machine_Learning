{
 "cells": [
  {
   "cell_type": "markdown",
   "id": "73425f45",
   "metadata": {},
   "source": [
    "<!-- dataset 1\n",
    "80.94710727457094 1e-06 2742.907868619646 None\n",
    "80.34049376533933 54.674196526383206 2542.715511207578 [302.39512784 299.98729093]\n",
    "80.40741481452056 1e-06 2651.8960431941096 None\n",
    "\n",
    "dataset 2\n",
    "533435.0080889168 22.274354563080006 2515.1732607200665\n",
    "533488.2228744307 298.5601754764213 2519.525066776425 [300.13923787 299.94610773]\n",
    "533218.2923134756 11.81695054460237 2505.7351321647266 None -->"
   ]
  },
  {
   "cell_type": "code",
   "execution_count": 3,
   "id": "fa4e74a9",
   "metadata": {},
   "outputs": [],
   "source": [
    "from sol_3a1 import *\n",
    "import matplotlib.pyplot as plt"
   ]
  },
  {
   "cell_type": "markdown",
   "id": "406e0856",
   "metadata": {},
   "source": [
    "# dataset1 result"
   ]
  },
  {
   "cell_type": "markdown",
   "id": "12257fd3",
   "metadata": {},
   "source": [
    "|   | loss = NLL            | alpha_hat          | sigma_hat           | Z_hat                       |\n",
    "|---|-----------------------|--------------------|---------------------|-----------------------------|\n",
    "| mode11  |  80.94710727457094    | 1e-06              |  2742.907868619646  |  None                       |\n",
    "| model2  | 80.34049376533933     | 54.674196526383206 | 2542.715511207578   | [302.39512784 299.98729093] |\n",
    "| model3  | 80.40741481452056     | 1e-06              | 2651.8960431941096  | None                        |"
   ]
  },
  {
   "cell_type": "markdown",
   "id": "58636911",
   "metadata": {},
   "source": [
    "# dataset2 result"
   ]
  },
  {
   "cell_type": "markdown",
   "id": "a3e0d4fd",
   "metadata": {},
   "source": [
    "|   | loss = NLL            | alpha_hat          | sigma_hat           | Z_hat                       |\n",
    "|---|-----------------------|--------------------|---------------------|-----------------------------|\n",
    "| mode11  |  533435.0080889168    | 22.274354563080006              |  2515.1732607200665  |  None                       |\n",
    "| mode12  | 533488.2228744307     | 298.5601754764213 | 2519.525066776425   | [300.13923787 299.94610773] |\n",
    "| mode13 | 533218.2923134756     | 11.81695054460237              | 2505.7351321647266  | None                        |"
   ]
  },
  {
   "cell_type": "markdown",
   "id": "2f3bbc81",
   "metadata": {},
   "source": [
    "# Dataset 1"
   ]
  },
  {
   "cell_type": "code",
   "execution_count": 13,
   "id": "0a7fbb92",
   "metadata": {},
   "outputs": [
    {
     "name": "stdout",
     "output_type": "stream",
     "text": [
      "-348.1763260173209 6.150959695998708e-152\n"
     ]
    }
   ],
   "source": [
    "log_evidence1, evidence1 = compute_evidence(loss=80.94710727457094, alpha_hat=1e-06, sigma_hat=2742.907868619646, z_hat=None, param_number=6 ,phi=phi1)"
   ]
  },
  {
   "cell_type": "code",
   "execution_count": 14,
   "id": "01126ec3",
   "metadata": {},
   "outputs": [
    {
     "name": "stdout",
     "output_type": "stream",
     "text": [
      "-79.37586775492639 3.368981589950336e-35\n"
     ]
    }
   ],
   "source": [
    "log_evidence2, evidence2 = compute_evidence(loss=80.34049376533933, alpha_hat=54.674196526383206, sigma_hat=2542.715511207578, z_hat=[302.39512784,299.98729093], param_number=2, phi=phi2)"
   ]
  },
  {
   "cell_type": "code",
   "execution_count": 15,
   "id": "96305062",
   "metadata": {},
   "outputs": [
    {
     "name": "stdout",
     "output_type": "stream",
     "text": [
      "-346.7627993877606 2.52830635668627e-151\n"
     ]
    }
   ],
   "source": [
    "log_evidence3, evidence3 = compute_evidence(loss=80.40741481452056, alpha_hat=1e-06, sigma_hat=2651.8960431941096, z_hat=None, param_number=2, phi=phi3)"
   ]
  },
  {
   "cell_type": "code",
   "execution_count": 21,
   "id": "55d0d7f0",
   "metadata": {},
   "outputs": [
    {
     "data": {
      "image/png": "[encoded data removed]",
      "text/plain": [
       "<Figure size 432x288 with 1 Axes>"
      ]
     },
     "metadata": {
      "needs_background": "light"
     },
     "output_type": "display_data"
    }
   ],
   "source": [
    "data = [log_evidence1, log_evidence2, log_evidence3]\n",
    "label = [\"model1\",\"model2\",\"model3\"]\n",
    "plt.bar(range(len(data)), data, tick_label=label)\n",
    "plt.title('dataset1 logevidence')\n",
    "plt.show()"
   ]
  },
  {
   "cell_type": "code",
   "execution_count": 22,
   "id": "337573d6",
   "metadata": {},
   "outputs": [
    {
     "data": {
      "image/png": "[encoded data removed]",
      "text/plain": [
       "<Figure size 432x288 with 1 Axes>"
      ]
     },
     "metadata": {
      "needs_background": "light"
     },
     "output_type": "display_data"
    }
   ],
   "source": [
    "data = [evidence1, evidence2, evidence3]\n",
    "label = [\"model1\",\"model2\",\"model3\"]\n",
    "plt.bar(range(len(data)), data, tick_label=label)\n",
    "plt.title('dataset1 evidence')\n",
    "plt.show()"
   ]
  },
  {
   "cell_type": "markdown",
   "id": "342483d1",
   "metadata": {},
   "source": [
    "# Dataset 2"
   ]
  },
  {
   "cell_type": "code",
   "execution_count": 6,
   "id": "5b721f90",
   "metadata": {},
   "outputs": [],
   "source": [
    "x=np.array([float(xi) for xi in scio.loadmat('./hw2files/occam2.mat')['x']], dtype=np.double)"
   ]
  },
  {
   "cell_type": "code",
   "execution_count": 4,
   "id": "15b81e86",
   "metadata": {},
   "outputs": [
    {
     "name": "stdout",
     "output_type": "stream",
     "text": [
      "-614631.3936193986 0.0\n"
     ]
    }
   ],
   "source": [
    "log_evidence1, evidence1 = compute_evidence(loss=533435.0080889168, alpha_hat=22.274354563080006, sigma_hat=2515.1732607200665, z_hat=None, param_number=6 ,phi=phi1, x=x)"
   ]
  },
  {
   "cell_type": "code",
   "execution_count": 13,
   "id": "57b08984",
   "metadata": {},
   "outputs": [
    {
     "name": "stdout",
     "output_type": "stream",
     "text": [
      "-355187.3938336382 0.0\n"
     ]
    }
   ],
   "source": [
    "log_evidence2, evidence2 = compute_evidence(loss=533488.2228744307, alpha_hat=298.5601754764213, sigma_hat=2519.525066776425, z_hat=[302.39512784,299.98729093], param_number=2, phi=phi2, x=x)"
   ]
  },
  {
   "cell_type": "code",
   "execution_count": 14,
   "id": "9ce32248",
   "metadata": {},
   "outputs": [
    {
     "name": "stdout",
     "output_type": "stream",
     "text": [
      "-677589.2313579913 0.0\n"
     ]
    }
   ],
   "source": [
    "# 533218.2923134756 11.81695054460237 2505.7351321647266 None\n",
    "log_evidence3, evidence3 = compute_evidence(loss=533218.2923134756, alpha_hat=11.81695054460237, sigma_hat=2505.7351321647266, z_hat=None, param_number=2, phi=phi3, x=x)"
   ]
  },
  {
   "cell_type": "code",
   "execution_count": 16,
   "id": "f245fd48",
   "metadata": {},
   "outputs": [
    {
     "data": {
      "image/png": "[encoded data removed]",
      "text/plain": [
       "<Figure size 432x288 with 1 Axes>"
      ]
     },
     "metadata": {
      "needs_background": "light"
     },
     "output_type": "display_data"
    }
   ],
   "source": [
    "data = [log_evidence1, log_evidence2, log_evidence3]\n",
    "label = [\"model1\",\"model2\",\"model3\"]\n",
    "plt.bar(range(len(data)), data, tick_label=label)\n",
    "plt.title('dataset2 logevidence')\n",
    "plt.show()"
   ]
  },
  {
   "cell_type": "code",
   "execution_count": 17,
   "id": "06458fad",
   "metadata": {},
   "outputs": [
    {
     "data": {
      "image/png": "[encoded data removed]",
      "text/plain": [
       "<Figure size 432x288 with 1 Axes>"
      ]
     },
     "metadata": {
      "needs_background": "light"
     },
     "output_type": "display_data"
    }
   ],
   "source": [
    "data = [evidence1, evidence2, evidence3]\n",
    "label = [\"model1\",\"model2\",\"model3\"]\n",
    "plt.bar(range(len(data)), data, tick_label=label)\n",
    "plt.title('dataset2 evidence')\n",
    "plt.show()"
   ]
  },
  {
   "cell_type": "markdown",
   "id": "20367b0e",
   "metadata": {},
   "source": [
    "# Posterior"
   ]
  },
  {
   "cell_type": "code",
   "execution_count": 33,
   "id": "208e4741",
   "metadata": {},
   "outputs": [],
   "source": [
    "phi = phi2\n",
    "alpha_hat = 298.5601754764213\n",
    "sigma_hat = 2519.525066776425\n",
    "z_hat = [300.13923787,299.94610773]\n",
    "param_shape = 2"
   ]
  },
  {
   "cell_type": "code",
   "execution_count": 29,
   "id": "97ed6225",
   "metadata": {},
   "outputs": [],
   "source": [
    "y=np.array([float(xi) for xi in scio.loadmat('./hw2files/occam2.mat')['y']], dtype=np.double)"
   ]
  },
  {
   "cell_type": "code",
   "execution_count": 28,
   "id": "a2f10b98",
   "metadata": {},
   "outputs": [],
   "source": [
    "phi_x = phi(x, z_hat)"
   ]
  },
  {
   "cell_type": "code",
   "execution_count": 26,
   "id": "72d3db06",
   "metadata": {},
   "outputs": [
    {
     "name": "stdout",
     "output_type": "stream",
     "text": [
      "[0. 0.]\n"
     ]
    }
   ],
   "source": [
    "m_0 = np.zeros(2)\n",
    "print(m_0)"
   ]
  },
  {
   "cell_type": "code",
   "execution_count": 34,
   "id": "ed3d08e6",
   "metadata": {},
   "outputs": [],
   "source": [
    "S_N = (1 / alpha_hat) * np.identity(param_shape) + (1 / sigma_hat) * phi_x.T @ phi_x\n",
    "m_N = np.linalg.inv(S_N) @ ((1 / alpha_hat) * np.identity(param_shape) @ m_0 + (1 / sigma_hat) * phi_x.T @ y)"
   ]
  },
  {
   "cell_type": "markdown",
   "id": "0b3522de",
   "metadata": {},
   "source": [
    "refer to bishop, we have the posterior update equation\n",
    "\n",
    "we get posterior \n",
    "\n",
    "mean = [-1.05609318  3.05200373]\n",
    "\n",
    "variance = \n",
    "[[39.67203114 39.67567358]\n",
    " [39.67567358 39.68601867]]"
   ]
  },
  {
   "cell_type": "code",
   "execution_count": 35,
   "id": "8fcfab54",
   "metadata": {},
   "outputs": [
    {
     "name": "stdout",
     "output_type": "stream",
     "text": [
      "[-1.05609318  3.05200373] [[39.67203114 39.67567358]\n",
      " [39.67567358 39.68601867]]\n"
     ]
    }
   ],
   "source": [
    "print(m_N,S_N)"
   ]
  },
  {
   "cell_type": "code",
   "execution_count": null,
   "id": "c694670d",
   "metadata": {},
   "outputs": [],
   "source": []
  }
 ],
 "metadata": {
  "kernelspec": {
   "display_name": "Python 3 (ipykernel)",
   "language": "python",
   "name": "python3"
  },
  "language_info": {
   "codemirror_mode": {
    "name": "ipython",
    "version": 3
   },
   "file_extension": ".py",
   "mimetype": "text/x-python",
   "name": "python",
   "nbconvert_exporter": "python",
   "pygments_lexer": "ipython3",
   "version": "3.9.7"
  }
 },
 "nbformat": 4,
 "nbformat_minor": 5
}
